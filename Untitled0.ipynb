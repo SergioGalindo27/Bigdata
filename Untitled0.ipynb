{
  "nbformat": 4,
  "nbformat_minor": 0,
  "metadata": {
    "colab": {
      "provenance": []
    },
    "kernelspec": {
      "name": "python3",
      "display_name": "Python 3"
    },
    "language_info": {
      "name": "python"
    }
  },
  "cells": [
    {
      "cell_type": "code",
      "execution_count": 45,
      "metadata": {
        "id": "FbPxAHaqfqM5"
      },
      "outputs": [],
      "source": [
        "def division_1(a, b, c):\n",
        " if type (a) == int and type (b) == int and type (c)== int:\n",
        "  suma = a + b\n",
        "  if c==0:\n",
        "   print(\"No es posible dividir entre 0\")\n",
        "  else:\n",
        "   return suma/c\n",
        " else:\n",
        "  print(\"Asegurese que los datos son numero enteros\")"
      ]
    },
    {
      "cell_type": "code",
      "source": [
        "division_1(\"h\",1,0)"
      ],
      "metadata": {
        "colab": {
          "base_uri": "https://localhost:8080/"
        },
        "id": "-Jd2VR9wjDA1",
        "outputId": "cc803977-a7fa-4732-e998-f0a33bdc1e8b"
      },
      "execution_count": 46,
      "outputs": [
        {
          "output_type": "stream",
          "name": "stdout",
          "text": [
            "Asegurese que los datos son numero enteros\n"
          ]
        }
      ]
    },
    {
      "cell_type": "code",
      "source": [
        "division_1(-1,1,1)"
      ],
      "metadata": {
        "colab": {
          "base_uri": "https://localhost:8080/"
        },
        "id": "k26dOMezkLJ8",
        "outputId": "3d353c22-cf8a-4165-e988-09091ffafb25"
      },
      "execution_count": 48,
      "outputs": [
        {
          "output_type": "execute_result",
          "data": {
            "text/plain": [
              "0.0"
            ]
          },
          "metadata": {},
          "execution_count": 48
        }
      ]
    }
  ]
}